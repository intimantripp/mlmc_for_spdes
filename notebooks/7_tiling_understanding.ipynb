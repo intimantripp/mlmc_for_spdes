{
 "cells": [
  {
   "cell_type": "code",
   "execution_count": 1,
   "id": "189c1319",
   "metadata": {},
   "outputs": [],
   "source": [
    "import numpy as np"
   ]
  },
  {
   "cell_type": "code",
   "execution_count": 29,
   "id": "13a6aad2",
   "metadata": {},
   "outputs": [
    {
     "name": "stdout",
     "output_type": "stream",
     "text": [
      "[[ 0  1  2  3]\n",
      " [ 4  5  6  7]\n",
      " [ 8  9 10 11]\n",
      " [12 13 14 15]]\n",
      "[[ 0  1  2  3]\n",
      " [ 4  5  6  7]\n",
      " [ 8  9 10 11]\n",
      " [12 13 14 15]]\n"
     ]
    }
   ],
   "source": [
    "N = 4\n",
    "A = np.arange(N**2).reshape((N,N))\n",
    "B = A.copy()\n",
    "print(A)\n",
    "print(B)"
   ]
  },
  {
   "cell_type": "code",
   "execution_count": 30,
   "id": "4b338661",
   "metadata": {},
   "outputs": [
    {
     "name": "stdout",
     "output_type": "stream",
     "text": [
      "[[ 56  62  68  74]\n",
      " [152 174 196 218]\n",
      " [248 286 324 362]\n",
      " [344 398 452 506]]\n"
     ]
    }
   ],
   "source": [
    "C = np.dot(A, B)\n",
    "print(C)"
   ]
  },
  {
   "cell_type": "code",
   "execution_count": 31,
   "id": "99ec9e67",
   "metadata": {},
   "outputs": [
    {
     "name": "stdout",
     "output_type": "stream",
     "text": [
      "[[ 56.  62.  68.  74.]\n",
      " [152. 174. 196. 218.]\n",
      " [248. 286. 324. 362.]\n",
      " [344. 398. 452. 506.]]\n"
     ]
    }
   ],
   "source": [
    "C_prime = np.zeros((N,N))\n",
    "for i in range(len(A)):\n",
    "    for j in range(len(B)):\n",
    "        for k in range(len(A)):\n",
    "            C_prime[i, j] += A[i, k] * B[k, j] \n",
    "# This one makes sense. For each row, for each column (these could be the other way around) I have to move along the rows of A and the columns of B and \n",
    "# add their contributions.\n",
    "print(C_prime)"
   ]
  },
  {
   "cell_type": "code",
   "execution_count": 34,
   "id": "ca5bebd9",
   "metadata": {},
   "outputs": [
    {
     "name": "stdout",
     "output_type": "stream",
     "text": [
      "0 0 0\n",
      "[[0. 0. 0. 0.]\n",
      " [0. 0. 0. 0.]\n",
      " [0. 0. 0. 0.]\n",
      " [0. 0. 0. 0.]]\n",
      "0 0 2\n",
      "[[ 4.  5.  0.  0.]\n",
      " [20. 29.  0.  0.]\n",
      " [ 0.  0.  0.  0.]\n",
      " [ 0.  0.  0.  0.]]\n",
      "0 2 0\n",
      "[[ 56.  62.   0.   0.]\n",
      " [152. 174.   0.   0.]\n",
      " [  0.   0.   0.   0.]\n",
      " [  0.   0.   0.   0.]]\n",
      "0 2 2\n",
      "[[ 56.  62.   6.   7.]\n",
      " [152. 174.  38.  47.]\n",
      " [  0.   0.   0.   0.]\n",
      " [  0.   0.   0.   0.]]\n",
      "2 0 0\n",
      "[[ 56.  62.  68.  74.]\n",
      " [152. 174. 196. 218.]\n",
      " [  0.   0.   0.   0.]\n",
      " [  0.   0.   0.   0.]]\n",
      "2 0 2\n",
      "[[ 56.  62.  68.  74.]\n",
      " [152. 174. 196. 218.]\n",
      " [ 36.  53.   0.   0.]\n",
      " [ 52.  77.   0.   0.]]\n",
      "2 2 0\n",
      "[[ 56.  62.  68.  74.]\n",
      " [152. 174. 196. 218.]\n",
      " [248. 286.   0.   0.]\n",
      " [344. 398.   0.   0.]]\n",
      "2 2 2\n",
      "[[ 56.  62.  68.  74.]\n",
      " [152. 174. 196. 218.]\n",
      " [248. 286.  70.  87.]\n",
      " [344. 398. 102. 127.]]\n",
      "[[ 56.  62.  68.  74.]\n",
      " [152. 174. 196. 218.]\n",
      " [248. 286. 324. 362.]\n",
      " [344. 398. 452. 506.]]\n"
     ]
    }
   ],
   "source": [
    "C_pprime = np.zeros((N,N))\n",
    "tile_size = 2\n",
    "for ii in range(0, N, tile_size):\n",
    "    for jj in range(0, N, tile_size):\n",
    "        for kk in range(0, N, tile_size):\n",
    "            print(ii, jj, kk, )\n",
    "            print(C_pprime)\n",
    "            for i in range(ii, ii + tile_size):\n",
    "                for j in range(jj, jj + tile_size):\n",
    "                    for k in range(kk, kk + tile_size):\n",
    "                        C_pprime[i,j] += A[i,k] * B[k,j]\n",
    "\n",
    "print(C_pprime)\n",
    "                    "
   ]
  },
  {
   "cell_type": "code",
   "execution_count": null,
   "id": "c74441c4",
   "metadata": {},
   "outputs": [],
   "source": [
    "A[i,k]"
   ]
  }
 ],
 "metadata": {
  "kernelspec": {
   "display_name": "mlmc_venv (3.13.1)",
   "language": "python",
   "name": "python3"
  },
  "language_info": {
   "codemirror_mode": {
    "name": "ipython",
    "version": 3
   },
   "file_extension": ".py",
   "mimetype": "text/x-python",
   "name": "python",
   "nbconvert_exporter": "python",
   "pygments_lexer": "ipython3",
   "version": "3.13.1"
  }
 },
 "nbformat": 4,
 "nbformat_minor": 5
}
