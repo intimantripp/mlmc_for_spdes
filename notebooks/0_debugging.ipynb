{
 "cells": [
  {
   "cell_type": "code",
   "execution_count": 14,
   "id": "5034e541",
   "metadata": {},
   "outputs": [
    {
     "name": "stdout",
     "output_type": "stream",
     "text": [
      "[[0 0 0 0 0 0 0 0 0 0]\n",
      " [1 1 1 1 1 1 1 1 1 1]\n",
      " [2 2 2 2 2 2 2 2 2 2]\n",
      " [3 3 3 3 3 3 3 3 3 3]\n",
      " [4 4 4 4 4 4 4 4 4 4]\n",
      " [5 5 5 5 5 5 5 5 5 5]\n",
      " [6 6 6 6 6 6 6 6 6 6]\n",
      " [7 7 7 7 7 7 7 7 7 7]\n",
      " [0 0 0 0 0 0 0 0 0 0]]\n"
     ]
    },
    {
     "data": {
      "text/plain": [
       "array([[ 1,  1,  1,  1,  1,  1,  1,  1,  1,  1],\n",
       "       [ 5,  5,  5,  5,  5,  5,  5,  5,  5,  5],\n",
       "       [ 9,  9,  9,  9,  9,  9,  9,  9,  9,  9],\n",
       "       [13, 13, 13, 13, 13, 13, 13, 13, 13, 13]])"
      ]
     },
     "execution_count": 14,
     "metadata": {},
     "output_type": "execute_result"
    }
   ],
   "source": [
    "import numpy as np\n",
    "test = np.array([[0, 0, 0, 0, 0, 0, 0, 0, 0, 0],\n",
    "                [1, 1, 1, 1, 1, 1, 1, 1, 1, 1],\n",
    "                [2, 2, 2, 2, 2, 2, 2, 2, 2, 2],\n",
    "                [3, 3, 3, 3, 3, 3, 3, 3, 3, 3],\n",
    "                [4, 4, 4, 4, 4, 4, 4, 4, 4, 4],\n",
    "                [5, 5, 5, 5, 5, 5, 5, 5, 5, 5],\n",
    "                [6, 6, 6, 6, 6, 6, 6, 6, 6, 6],\n",
    "                [7, 7, 7, 7, 7, 7, 7, 7, 7, 7], \n",
    "                [0, 0, 0, 0, 0, 0, 0, 0, 0, 0]])\n",
    "print(test)\n",
    "# dWf[:-1, :].reshape(nc-1, 2, N2).sum(axis=1) # sum of 2 fine adjacent increments, ignore final point\n",
    "test[:-1, :].reshape(4, 2, 10).sum(axis=1)"
   ]
  },
  {
   "cell_type": "code",
   "execution_count": null,
   "id": "662abda2",
   "metadata": {},
   "outputs": [
    {
     "name": "stdout",
     "output_type": "stream",
     "text": [
      "Number of time steps: 399, dt: 0.0006250000000000001, dx: 0.05\n",
      "Time step 0/399\n"
     ]
    }
   ],
   "source": [
    "import sys, os\n",
    "import numpy as np\n",
    "sys.path.append(os.path.abspath(os.path.join(os.getcwd(), '..')))\n",
    "from utils.mg_example_parabolic import parabolic_example_scheme\n",
    "T = 0.25; nx = 20; lam = 0.25; n_samples = 5\n",
    "u_samples = parabolic_example_scheme(T, nx, lam, n_samples)\n",
    "h = 1 / nx\n",
    "QoIs = h * np.sum(u_samples**2, axis=0)\n",
    "expected = QoIs.mean()\n",
    "print(expected)"
   ]
  },
  {
   "cell_type": "code",
   "execution_count": null,
   "id": "1d51352b",
   "metadata": {},
   "outputs": [
    {
     "name": "stdout",
     "output_type": "stream",
     "text": [
      "10.949694074390107\n"
     ]
    }
   ],
   "source": []
  },
  {
   "cell_type": "code",
   "execution_count": null,
   "id": "04f5a06e",
   "metadata": {},
   "outputs": [],
   "source": []
  }
 ],
 "metadata": {
  "kernelspec": {
   "display_name": "mlmc_venv",
   "language": "python",
   "name": "python3"
  },
  "language_info": {
   "codemirror_mode": {
    "name": "ipython",
    "version": 3
   },
   "file_extension": ".py",
   "mimetype": "text/x-python",
   "name": "python",
   "nbconvert_exporter": "python",
   "pygments_lexer": "ipython3",
   "version": "3.13.1"
  }
 },
 "nbformat": 4,
 "nbformat_minor": 5
}
